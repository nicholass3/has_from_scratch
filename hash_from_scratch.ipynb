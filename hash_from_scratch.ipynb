{
 "cells": [
  {
   "cell_type": "markdown",
   "source": [
    "Define padding function that takes the input message as an argument and adds padding bits as per the SHA-1 algorithm. The padding bits include a single \"1\" bit followed by enough \"0\" bits to reach the required block length, and then a 64-bit representation of the original message length.  \n",
    "\n",
    "Define a function to split the message into 512-bit blocks.  \n",
    "\n",
    "Define a function that initializes the values of the five 32-bit words A, B, C, D, E with predetermined values.  \n",
    "\n",
    "Define the compression function that performs a series of logical operations and bit manipulation using the message schedule and the current values of A, B, C, D, E.  \n",
    "\n",
    "Define the message schedule function that generates an 80-entry message schedule for each block of the message.  \n",
    "\n",
    "Define the finalization function that concatenates the values of A, B, C, D, E to produce the 160-bit output.  \n",
    "\n",
    "Combine all the above-defined functions to create the SHA-1 algorithm.  \n",
    "\n"
   ],
   "metadata": {}
  },
  {
   "cell_type": "code",
   "execution_count": 28,
   "source": [
    "def sha1(message):\n",
    "    h0 = 0x67452301\n",
    "    h1 = 0xEFCDAB89\n",
    "    h2 = 0x98BADCFE\n",
    "    h3 = 0x10325476\n",
    "    h4 = 0xC3D2E1F0\n",
    "\n",
    "    message_L = \"\"\n",
    "\n",
    "    for char in message:\n",
    "        message_L += '{0:08b}'.format(char)\n",
    "\n",
    "    temp = message_L\n",
    "    message_L += '1'\n",
    "\n",
    "    while(len(message_L) % 512 != 448):\n",
    "        message_L += '0'\n",
    "\n",
    "    message_L += '{0:064b}'.format(len(temp))\n",
    "\n",
    "    block = blocks(message_L, 512)\n",
    "\n",
    "    for eachblock in block:\n",
    "        words = blocks(eachblock, 32)\n",
    "        w = [0] * 80\n",
    "\n",
    "        for n in range(0, 16):\n",
    "            w[n] = int(words[n], 2)\n",
    "\n",
    "        for i in range(16, 80):\n",
    "            w[i] = leftRotate((w[i-3] ^ w[i-8] ^ w[i-14] ^ w[i-16]), 1)\n",
    "\n",
    "        a = h0\n",
    "        b = h1\n",
    "        c = h2\n",
    "        d = h3\n",
    "        e = h4\n",
    "\n",
    "        for i in range(0, 80):\n",
    "            if 0 <= i <= 19:\n",
    "                f = (b & c) | ((~b) & d)\n",
    "                k = 0x5A827999\n",
    "            elif 20 <= i <= 39:\n",
    "                f = b ^ c ^ d\n",
    "                k = 0x6ED9EBA1\n",
    "            elif 40 <= i <= 59:\n",
    "                f = (b & c) | (b & d) | (c & d)\n",
    "                k = 0x8F1BBCDC\n",
    "            elif 60 <= i <= 79:\n",
    "                f = b ^ c ^ d\n",
    "                k = 0xCA62C1D6\n",
    "\n",
    "            a, b, c, d, e = ((leftRotate(a, 5) + f + e + k + w[i]) & 0xffffffff, a, leftRotate(b, 30), c, d)\n",
    "\n",
    "        h0 = h0 + a & 0xffffffff\n",
    "        h1 = h1 + b & 0xffffffff\n",
    "        h2 = h2 + c & 0xffffffff\n",
    "        h3 = h3 + d & 0xffffffff\n",
    "        h4 = h4 + e & 0xffffffff\n",
    "\n",
    "    return '%08x%08x%08x%08x%08x' % (h0, h1, h2, h3, h4)\n",
    "\n"
   ],
   "outputs": [],
   "metadata": {}
  },
  {
   "cell_type": "code",
   "execution_count": 29,
   "source": [
    "def blocks(message_L, blockSize):\n",
    "    block_list = []\n",
    "    for i in range(0, len(message_L), blockSize):\n",
    "        block_list.append(message_L[i:i+blockSize])\n",
    "    return block_list\n",
    "\n",
    "def leftRotate(block, r):\n",
    "    return ((block << r) | (block >> (32 - r))) & 0xffffffff"
   ],
   "outputs": [],
   "metadata": {}
  },
  {
   "cell_type": "code",
   "execution_count": 30,
   "source": [
    "texts = ['USF', 'Electrical Engineering', 'Crypto']\n",
    "for text in texts:\n",
    "    hash_value = sha1(text.encode())\n",
    "    print(hash_value)"
   ],
   "outputs": [
    {
     "output_type": "stream",
     "name": "stdout",
     "text": [
      "d254051b692a1957493317ceb515f711bb805dac\n",
      "0153b20d969b54d79909edeb85500ee5e4ee122e\n",
      "e849494484ed2e3c1a93babc3e347d2e98ac8604\n"
     ]
    }
   ],
   "metadata": {}
  },
  {
   "cell_type": "code",
   "execution_count": null,
   "source": [],
   "outputs": [],
   "metadata": {}
  }
 ],
 "metadata": {
  "orig_nbformat": 4,
  "language_info": {
   "name": "python",
   "version": "3.9.15",
   "mimetype": "text/x-python",
   "codemirror_mode": {
    "name": "ipython",
    "version": 3
   },
   "pygments_lexer": "ipython3",
   "nbconvert_exporter": "python",
   "file_extension": ".py"
  },
  "kernelspec": {
   "name": "python3",
   "display_name": "Python 3.9.15 64-bit ('ai_report': conda)"
  },
  "interpreter": {
   "hash": "a3707f5f5f185c7c2c0c74ee357f2e18fe1adb1ec3d6f7808262ee1df85df5ac"
  }
 },
 "nbformat": 4,
 "nbformat_minor": 2
}